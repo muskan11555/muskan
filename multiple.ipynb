{
 "cells": [
  {
   "cell_type": "code",
   "execution_count": null,
   "id": "49655ee9-de15-4708-a3b5-99b459f9691f",
   "metadata": {},
   "outputs": [],
   "source": [
    "def handle_error():\n",
    "    try:\n",
    "        n1 = int(\"enter number\"))\n",
    "        n2 = int(\"enter another number\"))\n",
    "        result = n1/n2\n",
    "        print(\"result:\",result)\n",
    "\n",
    "        #attempt to open a file\n",
    "        with open(\"non_existent_file.txt\",\"r\")as file:\n",
    "            print(file.read())\n",
    "    except ValueError:\n",
    "        print(\"Error:Invalid input\")\n",
    "    except ZeroDivisionError:\n",
    "        print(\"error: File not found\")\n",
    "    except Exception as e:\n",
    "        print(f\"An unexpected error :{e}\")"
   ]
  }
 ],
 "metadata": {
  "kernelspec": {
   "display_name": "Python 3 (ipykernel)",
   "language": "python",
   "name": "python3"
  },
  "language_info": {
   "codemirror_mode": {
    "name": "ipython",
    "version": 3
   },
   "file_extension": ".py",
   "mimetype": "text/x-python",
   "name": "python",
   "nbconvert_exporter": "python",
   "pygments_lexer": "ipython3",
   "version": "3.12.1"
  }
 },
 "nbformat": 4,
 "nbformat_minor": 5
}
