{
 "cells": [
  {
   "cell_type": "code",
   "execution_count": null,
   "id": "b64f1663-a78e-4eb1-a01c-1ce7454f178b",
   "metadata": {},
   "outputs": [],
   "source": [
    "def handle_name_error():\n",
    "    try:\n",
    "print(non_existence_variable)\n",
    "except NameError:\n",
    "      print(\"Error : Variable is not defined.\")\n"
   ]
  },
  {
   "cell_type": "code",
   "execution_count": null,
   "id": "9f56c03d-7d59-4f84-8cca-add0124077de",
   "metadata": {},
   "outputs": [],
   "source": []
  }
 ],
 "metadata": {
  "kernelspec": {
   "display_name": "Python 3 (ipykernel)",
   "language": "python",
   "name": "python3"
  },
  "language_info": {
   "codemirror_mode": {
    "name": "ipython",
    "version": 3
   },
   "file_extension": ".py",
   "mimetype": "text/x-python",
   "name": "python",
   "nbconvert_exporter": "python",
   "pygments_lexer": "ipython3",
   "version": "3.12.1"
  }
 },
 "nbformat": 4,
 "nbformat_minor": 5
}
