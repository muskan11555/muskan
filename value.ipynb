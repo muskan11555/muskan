{
 "cells": [
  {
   "cell_type": "code",
   "execution_count": null,
   "id": "05797092-3bf0-4d79-8acc-57ced8df82b5",
   "metadata": {},
   "outputs": [],
   "source": [
    "def value_error_handler():\n",
    "    try:\n",
    "        num=int(\"hello\")\n",
    "    except ValueError:\n",
    "        print(\"Error:Invalid value\")"
   ]
  }
 ],
 "metadata": {
  "kernelspec": {
   "display_name": "Python 3 (ipykernel)",
   "language": "python",
   "name": "python3"
  },
  "language_info": {
   "codemirror_mode": {
    "name": "ipython",
    "version": 3
   },
   "file_extension": ".py",
   "mimetype": "text/x-python",
   "name": "python",
   "nbconvert_exporter": "python",
   "pygments_lexer": "ipython3",
   "version": "3.12.1"
  }
 },
 "nbformat": 4,
 "nbformat_minor": 5
}
