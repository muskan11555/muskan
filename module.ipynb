{
 "cells": [
  {
   "cell_type": "code",
   "execution_count": null,
   "id": "655e8edf-e2bd-4078-9cf2-fd8085498964",
   "metadata": {},
   "outputs": [],
   "source": [
    "def handle_module_not_found():\n",
    "    try:\n",
    "        import non_existent_module\n",
    "    except ModuleNotFoundError as e:\n",
    "        print (f\"Error:{e}\")"
   ]
  }
 ],
 "metadata": {
  "kernelspec": {
   "display_name": "Python 3 (ipykernel)",
   "language": "python",
   "name": "python3"
  },
  "language_info": {
   "codemirror_mode": {
    "name": "ipython",
    "version": 3
   },
   "file_extension": ".py",
   "mimetype": "text/x-python",
   "name": "python",
   "nbconvert_exporter": "python",
   "pygments_lexer": "ipython3",
   "version": "3.12.1"
  }
 },
 "nbformat": 4,
 "nbformat_minor": 5
}
