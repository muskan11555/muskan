{
 "cells": [
  {
   "cell_type": "code",
   "execution_count": null,
   "id": "4fdd577f-55b7-4696-b97b-79b86d928450",
   "metadata": {},
   "outputs": [],
   "source": [
    "def handle_attibute_error():\n",
    "    person=Person(\"muskan\")\n",
    "    try:\n",
    "        print(person.age)\n",
    "    except AttributeError as e :\n",
    "        print(f\"Error:{e}\")"
   ]
  }
 ],
 "metadata": {
  "kernelspec": {
   "display_name": "Python 3 (ipykernel)",
   "language": "python",
   "name": "python3"
  },
  "language_info": {
   "codemirror_mode": {
    "name": "ipython",
    "version": 3
   },
   "file_extension": ".py",
   "mimetype": "text/x-python",
   "name": "python",
   "nbconvert_exporter": "python",
   "pygments_lexer": "ipython3",
   "version": "3.12.1"
  }
 },
 "nbformat": 4,
 "nbformat_minor": 5
}
