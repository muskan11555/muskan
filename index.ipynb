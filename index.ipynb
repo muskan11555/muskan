{
 "cells": [
  {
   "cell_type": "code",
   "execution_count": null,
   "id": "00b89e09-8158-46cf-802e-20d9b4e1cf4f",
   "metadata": {},
   "outputs": [],
   "source": [
    "def handle_index_error():\n",
    "    my_list=[1,2,3]\n",
    "    try:\n",
    "        print(my_list[3])\n",
    "    except IndexError:\n",
    "        print(\"Error: Index out of range\")"
   ]
  }
 ],
 "metadata": {
  "kernelspec": {
   "display_name": "Python 3 (ipykernel)",
   "language": "python",
   "name": "python3"
  },
  "language_info": {
   "codemirror_mode": {
    "name": "ipython",
    "version": 3
   },
   "file_extension": ".py",
   "mimetype": "text/x-python",
   "name": "python",
   "nbconvert_exporter": "python",
   "pygments_lexer": "ipython3",
   "version": "3.12.1"
  }
 },
 "nbformat": 4,
 "nbformat_minor": 5
}
