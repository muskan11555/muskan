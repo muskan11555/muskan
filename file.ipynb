{
 "cells": [
  {
   "cell_type": "code",
   "execution_count": null,
   "id": "824bdf64-b1f9-433a-9438-b55c2f4fd296",
   "metadata": {},
   "outputs": [],
   "source": [
    "def handle_file_not_found_error():\n",
    "    try:\n",
    "        with open(\"non_existent_file.txt\",\"r\") as file:\n",
    "            print(file.read())\n",
    "    except FileNotFOUNDError as e:\n",
    "            print(f\"Error:{e}\")"
   ]
  }
 ],
 "metadata": {
  "kernelspec": {
   "display_name": "Python 3 (ipykernel)",
   "language": "python",
   "name": "python3"
  },
  "language_info": {
   "codemirror_mode": {
    "name": "ipython",
    "version": 3
   },
   "file_extension": ".py",
   "mimetype": "text/x-python",
   "name": "python",
   "nbconvert_exporter": "python",
   "pygments_lexer": "ipython3",
   "version": "3.12.1"
  }
 },
 "nbformat": 4,
 "nbformat_minor": 5
}
