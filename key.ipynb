{
 "cells": [
  {
   "cell_type": "code",
   "execution_count": null,
   "id": "0f3b0daa-0a6a-4ee7-ab49-e15af14a90d7",
   "metadata": {},
   "outputs": [],
   "source": [
    "def handle_key_error:\n",
    "    my_dict = {\"name\": \"muskan\",\"age\":18}\n",
    "    try:\n",
    "       print(my_dict[\"city\"])\n",
    "except KeyError:\n",
    "       print(\"error:Key not found\")"
   ]
  }
 ],
 "metadata": {
  "kernelspec": {
   "display_name": "Python 3 (ipykernel)",
   "language": "python",
   "name": "python3"
  },
  "language_info": {
   "codemirror_mode": {
    "name": "ipython",
    "version": 3
   },
   "file_extension": ".py",
   "mimetype": "text/x-python",
   "name": "python",
   "nbconvert_exporter": "python",
   "pygments_lexer": "ipython3",
   "version": "3.12.1"
  }
 },
 "nbformat": 4,
 "nbformat_minor": 5
}
